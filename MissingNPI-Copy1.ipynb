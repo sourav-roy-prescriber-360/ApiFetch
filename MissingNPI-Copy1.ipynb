{
 "cells": [
  {
   "cell_type": "code",
   "execution_count": 1,
   "metadata": {},
   "outputs": [],
   "source": [
    "import pandas as pd\n",
    "import requests\n",
    "import json\n",
    "import numpy as np\n",
    "import csv\n",
    "from datetime import date"
   ]
  },
  {
   "cell_type": "code",
   "execution_count": 5,
   "metadata": {},
   "outputs": [],
   "source": [
    "data=pd.read_csv('npiid_Data_List1.csv')\n",
    "data=data.head()"
   ]
  },
  {
   "cell_type": "code",
   "execution_count": 6,
   "metadata": {},
   "outputs": [],
   "source": [
    "data=data.replace(np.nan, '', regex=True)\n",
    "df=pd.DataFrame()"
   ]
  },
  {
   "cell_type": "code",
   "execution_count": 15,
   "metadata": {},
   "outputs": [
    {
     "name": "stdout",
     "output_type": "stream",
     "text": [
      "https://clinicaltables.nlm.nih.gov/api/npi_idv/v3/search?maxList=500&sf=name.full&df=name.full,NPI,provider_type,addr_practice.full&terms=Microsoft+Certification+Program\n",
      "https://clinicaltables.nlm.nih.gov/api/npi_idv/v3/search?maxList=500&sf=name.full&df=name.full,NPI,provider_type,addr_practice.full&terms=Dan+Lambert\n",
      "https://clinicaltables.nlm.nih.gov/api/npi_idv/v3/search?maxList=500&sf=name.full&df=name.full,NPI,provider_type,addr_practice.full&terms=Basecamp+%28Mi-Corporation%29\n",
      "https://clinicaltables.nlm.nih.gov/api/npi_idv/v3/search?maxList=500&sf=name.full&df=name.full,NPI,provider_type,addr_practice.full&terms=Amber+Smith\n",
      "https://clinicaltables.nlm.nih.gov/api/npi_idv/v3/search?maxList=500&sf=name.full&df=name.full,NPI,provider_type,addr_practice.full&terms=Pragmatic+Works\n"
     ]
    }
   ],
   "source": [
    "for fn in data['fullname']:\n",
    "    load={'terms':fn}\n",
    "    response = requests.get(\"https://clinicaltables.nlm.nih.gov/api/npi_idv/v3/search?maxList=500&sf=name.full&df=name.full,NPI,provider_type,addr_practice.full\", params=load)\n",
    "    print(response.url)\n",
    "    dfjson = json.loads(response.text)\n",
    "    for hcp in dfjson[3]:\n",
    "        df = df.append(pd.DataFrame(np.array(hcp).reshape(-1,len(hcp)),columns=['Full Name','NPI','Provider Type','Address']),ignore_index=True)"
   ]
  },
  {
   "cell_type": "code",
   "execution_count": 16,
   "metadata": {},
   "outputs": [],
   "source": [
    "df.to_csv(r'missing_npi_'+str(date.today())+'.csv',index=False,header=True)"
   ]
  },
  {
   "cell_type": "code",
   "execution_count": null,
   "metadata": {},
   "outputs": [],
   "source": []
  }
 ],
 "metadata": {
  "kernelspec": {
   "display_name": "Test",
   "language": "python",
   "name": "test"
  },
  "language_info": {
   "codemirror_mode": {
    "name": "ipython",
    "version": 3
   },
   "file_extension": ".py",
   "mimetype": "text/x-python",
   "name": "python",
   "nbconvert_exporter": "python",
   "pygments_lexer": "ipython3",
   "version": "3.8.5"
  }
 },
 "nbformat": 4,
 "nbformat_minor": 4
}
