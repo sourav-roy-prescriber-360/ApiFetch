{
 "cells": [
  {
   "cell_type": "code",
   "execution_count": 34,
   "metadata": {},
   "outputs": [],
   "source": [
    "import pandas as pd\n",
    "import requests\n",
    "import json\n",
    "import numpy as np\n",
    "import csv\n",
    "from datetime import date"
   ]
  },
  {
   "cell_type": "code",
   "execution_count": 35,
   "metadata": {},
   "outputs": [
    {
     "data": {
      "text/html": [
       "<div>\n",
       "<style scoped>\n",
       "    .dataframe tbody tr th:only-of-type {\n",
       "        vertical-align: middle;\n",
       "    }\n",
       "\n",
       "    .dataframe tbody tr th {\n",
       "        vertical-align: top;\n",
       "    }\n",
       "\n",
       "    .dataframe thead th {\n",
       "        text-align: right;\n",
       "    }\n",
       "</style>\n",
       "<table border=\"1\" class=\"dataframe\">\n",
       "  <thead>\n",
       "    <tr style=\"text-align: right;\">\n",
       "      <th></th>\n",
       "      <th>fullname</th>\n",
       "      <th>lastname</th>\n",
       "      <th>firstname</th>\n",
       "      <th>p360_primaryzip</th>\n",
       "      <th>contactid</th>\n",
       "    </tr>\n",
       "  </thead>\n",
       "  <tbody>\n",
       "    <tr>\n",
       "      <th>3</th>\n",
       "      <td>Amber Smith</td>\n",
       "      <td>Smith</td>\n",
       "      <td>Amber</td>\n",
       "      <td>73129.0</td>\n",
       "      <td>e566930a-1224-e911-a978-000d3a1a9a3a</td>\n",
       "    </tr>\n",
       "  </tbody>\n",
       "</table>\n",
       "</div>"
      ],
      "text/plain": [
       "      fullname lastname firstname  p360_primaryzip  \\\n",
       "3  Amber Smith    Smith     Amber          73129.0   \n",
       "\n",
       "                              contactid  \n",
       "3  e566930a-1224-e911-a978-000d3a1a9a3a  "
      ]
     },
     "execution_count": 35,
     "metadata": {},
     "output_type": "execute_result"
    }
   ],
   "source": [
    "data=pd.read_csv('npiid_Data_List1.csv')\n",
    "data=data.iloc[[3]]\n",
    "data"
   ]
  },
  {
   "cell_type": "code",
   "execution_count": 23,
   "metadata": {},
   "outputs": [],
   "source": [
    "data=data.replace(np.nan, '', regex=True)\n",
    "df=pd.DataFrame()"
   ]
  },
  {
   "cell_type": "code",
   "execution_count": 29,
   "metadata": {},
   "outputs": [
    {
     "name": "stdout",
     "output_type": "stream",
     "text": [
      "https://clinicaltables.nlm.nih.gov/api/npi_idv/v3/search?df=name.full,NPI,provider_type,addr_practice.full,addr_practice.zip&terms=80304\n"
     ]
    }
   ],
   "source": [
    "# for fn in data['p360_primaryzip']:\n",
    "#     load={'terms':int(fn)}\n",
    "#     response = requests.get(\"https://clinicaltables.nlm.nih.gov/api/npi_idv/v3/search?df=name.full,NPI,provider_type,addr_practice.full,addr_practice.zip\", params=load)\n",
    "#     print(response.url)\n",
    "#     dfjson = json.loads(response.text)\n",
    "#     for hcp in dfjson[3]:\n",
    "#         df = df.append(pd.DataFrame(np.array(hcp).reshape(-1,len(hcp)),columns=['Full Name','NPI','Provider Type','Address','zip']),ignore_index=True)"
   ]
  },
  {
   "cell_type": "code",
   "execution_count": 43,
   "metadata": {},
   "outputs": [
    {
     "name": "stdout",
     "output_type": "stream",
     "text": [
      "Amber Smith 73129\n",
      "https://clinicaltables.nlm.nih.gov/api/npi_idv/v3/search?&df=name.full,NPI,provider_type,addr_practice.full,addr_practice.zip&terms=Amber+Smith+73129\n",
      "['SMITH, AMBER', '1407006638', 'Counselor', '105 SE 45TH ST, OKLAHOMA CITY, OK 73129', '73129']\n"
     ]
    }
   ],
   "source": [
    "for fn,ln in zip(data['fullname'],data['p360_primaryzip']):\n",
    "    name=fn+' '+str(int(ln))\n",
    "    print(name)\n",
    "    load={'terms':name}\n",
    "    response = requests.get(\"https://clinicaltables.nlm.nih.gov/api/npi_idv/v3/search?&df=name.full,NPI,provider_type,addr_practice.full,addr_practice.zip\", params=load)\n",
    "    print(response.url)\n",
    "    #print(response.text)\n",
    "    dfjson = json.loads(response.text)\n",
    "    #print(dfjson[3])\n",
    "    for hcp in dfjson[3]:\n",
    "        print(hcp)\n",
    "        df = df.append(pd.DataFrame(np.array(hcp).reshape(-1,len(hcp)),columns=['name.full','NPI','provider_type','addr_practice','zip']),ignore_index=True)"
   ]
  },
  {
   "cell_type": "code",
   "execution_count": 45,
   "metadata": {},
   "outputs": [],
   "source": [
    "df.to_csv(r'missing_2'+str(date.today())+'.csv',index=False,header=True)"
   ]
  },
  {
   "cell_type": "code",
   "execution_count": null,
   "metadata": {},
   "outputs": [],
   "source": []
  }
 ],
 "metadata": {
  "kernelspec": {
   "display_name": "Test",
   "language": "python",
   "name": "test"
  },
  "language_info": {
   "codemirror_mode": {
    "name": "ipython",
    "version": 3
   },
   "file_extension": ".py",
   "mimetype": "text/x-python",
   "name": "python",
   "nbconvert_exporter": "python",
   "pygments_lexer": "ipython3",
   "version": "3.8.5"
  }
 },
 "nbformat": 4,
 "nbformat_minor": 4
}
