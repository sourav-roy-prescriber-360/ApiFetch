{
 "cells": [
  {
   "cell_type": "code",
   "execution_count": 1,
   "metadata": {},
   "outputs": [],
   "source": [
    "import pandas as pd\n",
    "import requests\n",
    "import json\n",
    "import numpy as np\n",
    "import csv\n",
    "from datetime import date"
   ]
  },
  {
   "cell_type": "code",
   "execution_count": 2,
   "metadata": {},
   "outputs": [],
   "source": [
    "data=pd.read_csv('npiid_Data_List1.csv')\n",
    "data=data.head()"
   ]
  },
  {
   "cell_type": "code",
   "execution_count": 3,
   "metadata": {},
   "outputs": [
    {
     "output_type": "execute_result",
     "data": {
      "text/plain": "                          fullname                         lastname  \\\n0  Microsoft Certification Program  Microsoft Certification Program   \n1                      Dan Lambert                          Lambert   \n2        Basecamp (Mi-Corporation)                 (Mi-Corporation)   \n3                      Amber Smith                            Smith   \n4                  Pragmatic Works                            Works   \n\n   firstname p360_primaryzip                             contactid  \n0                             8fbd78db-3823-e911-a978-000d3a1a9a3a  \n1        Dan                  8438eb56-b30a-e911-a968-000d3a1d7b43  \n2   Basecamp                  b0e25ec7-9b20-e911-a96d-000d3a199c61  \n3      Amber           73129  e566930a-1224-e911-a978-000d3a1a9a3a  \n4  Pragmatic                  f3562fd7-c120-e911-a96f-000d3a1a9bf6  ",
      "text/html": "<div>\n<style scoped>\n    .dataframe tbody tr th:only-of-type {\n        vertical-align: middle;\n    }\n\n    .dataframe tbody tr th {\n        vertical-align: top;\n    }\n\n    .dataframe thead th {\n        text-align: right;\n    }\n</style>\n<table border=\"1\" class=\"dataframe\">\n  <thead>\n    <tr style=\"text-align: right;\">\n      <th></th>\n      <th>fullname</th>\n      <th>lastname</th>\n      <th>firstname</th>\n      <th>p360_primaryzip</th>\n      <th>contactid</th>\n    </tr>\n  </thead>\n  <tbody>\n    <tr>\n      <th>0</th>\n      <td>Microsoft Certification Program</td>\n      <td>Microsoft Certification Program</td>\n      <td></td>\n      <td></td>\n      <td>8fbd78db-3823-e911-a978-000d3a1a9a3a</td>\n    </tr>\n    <tr>\n      <th>1</th>\n      <td>Dan Lambert</td>\n      <td>Lambert</td>\n      <td>Dan</td>\n      <td></td>\n      <td>8438eb56-b30a-e911-a968-000d3a1d7b43</td>\n    </tr>\n    <tr>\n      <th>2</th>\n      <td>Basecamp (Mi-Corporation)</td>\n      <td>(Mi-Corporation)</td>\n      <td>Basecamp</td>\n      <td></td>\n      <td>b0e25ec7-9b20-e911-a96d-000d3a199c61</td>\n    </tr>\n    <tr>\n      <th>3</th>\n      <td>Amber Smith</td>\n      <td>Smith</td>\n      <td>Amber</td>\n      <td>73129</td>\n      <td>e566930a-1224-e911-a978-000d3a1a9a3a</td>\n    </tr>\n    <tr>\n      <th>4</th>\n      <td>Pragmatic Works</td>\n      <td>Works</td>\n      <td>Pragmatic</td>\n      <td></td>\n      <td>f3562fd7-c120-e911-a96f-000d3a1a9bf6</td>\n    </tr>\n  </tbody>\n</table>\n</div>"
     },
     "metadata": {},
     "execution_count": 3
    }
   ],
   "source": [
    "data=data.replace(np.nan, ' ', regex=True)\n",
    "df=pd.DataFrame()\n",
    "data"
   ]
  },
  {
   "cell_type": "code",
   "execution_count": 4,
   "metadata": {},
   "outputs": [],
   "source": [
    "# for fn in data['p360_primaryzip']:\n",
    "#     load={'terms':int(fn)}\n",
    "#     response = requests.get(\"https://clinicaltables.nlm.nih.gov/api/npi_idv/v3/search?df=name.full,NPI,provider_type,addr_practice.full,addr_practice.zip\", params=load)\n",
    "#     print(response.url)\n",
    "#     dfjson = json.loads(response.text)\n",
    "#     for hcp in dfjson[3]:\n",
    "#         df = df.append(pd.DataFrame(np.array(hcp).reshape(-1,len(hcp)),columns=['Full Name','NPI','Provider Type','Address','zip']),ignore_index=True)"
   ]
  },
  {
   "cell_type": "code",
   "execution_count": 4,
   "metadata": {
    "tags": []
   },
   "outputs": [
    {
     "output_type": "stream",
     "name": "stdout",
     "text": "Microsoft Certification Program  \nDan Lambert  \n['LAMBERT, DANIELLE', '1104283944', 'Counselor', '100A HAVERHILL ST., METHUEN, MA 01844', '01844']\n['LAMBERT, DANIA', '1225547300', 'In Home Supportive Care', '10650 W STATE ROAD 84, DAVIE, FL 33324', '33324']\n['LAMBERT, DANIEL', '1376626150', 'Physician Assistant', '2315 8TH ST, LEWISTON, ID 83501', '83501']\n['LAMBERT, DANIELLE', '1982752036', 'Nurse Practitioner', '212 CALEF HWY, EPPING, NH 03042', '03042']\n['LAMBERT, DANIELLE', '1508111444', 'Home Health Aide', '1285 N SHOOP AVE LOT 46, WAUSEON, OH 43567', '43567']\n['LAMBERT, DANA', '1245330711', 'Pharmacist', '5651-C MOFFET RD WINN DIXIE 578, MOBILE, AL 36618', '36618']\n['LAMBERT, DANIEL', '1386926772', 'Licensed Clinical Social Worker', '359 FENN ST ADMINISTRATIVE OFFICES, PITTSFIELD, MA 01201', '01201']\n['LAMBERT, DANIELLE', '1003306747', 'Behavior Analyst', '32100 TELEGRAPH RD STE 205, BINGHAM FARMS, MI 48025', '48025']\n['LAMBERT, DANIELLE', '1770965048', 'Behavior Analyst', '44 E BROAD ST, BETHLEHEM, PA 18018', '18018']\n['LAMBERT, DANA', '1124324751', 'Certified Registered Nurse Anesthetist (CRNA)', '2105 E SOUTH BLVD, MONTGOMERY, AL 36116', '36116']\n['LAMBERT, DANIELLE', '1235750134', 'Home Health Aide', '7710 W INTERSTATE 10, SAN ANTONIO, TX 78230', '78230']\n['LAMBERT, DANIELLE', '1750718003', 'Counselor', '37-20 74TH ST, JACKSON HEIGHTS, NY 11372', '11372']\n['LAMBERT, DANIEL', '1235291253', 'Psychologist, Clinical', '258 MAIN ST SUITE 103, MILFORD, MA 01757', '01757']\n['DANIEL, LAMBERT', '1487688941', 'Physician/Family Practice', '144 STONY POINT RD, SANTA ROSA, CA 95401', '95401']\n['LAMBERT, DANIELLE', '1649580069', 'Student in an Organized Health Care Education/Training Program', '780 AMERICAN LEGION HWY, ROSLINDALE, MA 02131', '02131']\n['LAMBERT, DANIEL', '1265727036', 'Chiropractic', '9950 JONES BRIDGE RD SUITE #600, ALPHARETTA, GA 30022', '30022']\n['LAMBERT, DANIEL', '1447711148', 'Student in an Organized Health Care Education/Training Program', '27005 76TH AVE, NEW HYDE PARK, NY 11040', '11040']\n['LAMBERT, DANA', '1669803946', 'Counselor', '201 W 8TH ST STE 403, PUEBLO, CO 81003', '81003']\n['LAMBERT, DANNI', '1003957564', 'Registered Nurse', '2101 MEDICAL CENTER WAY, KNOXVILLE, TN 37920', '37920']\n['LAMBERT, DAVID', '1760725006', 'Veterinarian', '616 WAUREGAN RD, DANIELSON, CT 06239', '06239']\n['LAMBERT, CARMEN', '1619268604', 'Occupational Therapy Assistant', '64 DANBURY RD, WILTON, CT 06897', '06897']\n['LAMBERT, MATHEW', '1982881835', 'Behavior Analyst', '64 HOLTEN STREET, DANVERS, MA 01923', '01923']\n['LAMBERT, RICHARD', '1992720759', 'Physician/Pediatric Medicine', '100 N ACADEMY AVE, DANVILLE, PA 17822', '17822']\n['LAMBERTON, DANIEL', '1770961765', 'Certified Registered Nurse Anesthetist (CRNA)', '406 S 30TH AVE SUITE 202, YAKIMA, WA 98902', '98902']\n['GAUCH, DANIELLE', '1669010823', 'Pharmacist', '3462 STERNS RD, LAMBERTVILLE, MI 48144', '48144']\n['DRANG, DANIEL', '1912278169', 'Contractor', '713 LAMBERTON DR, SILVER SPRING, MD 20902', '20902']\n['DANIELSON, STEPHEN', '1811907405', 'Dentist', '209 S MAIN ST, LAMBERTON, MN 56152', '56152']\n['ROGAL-HUDSPETH, DANIELLE', '1811530249', 'Counselor', '1370 LAMBERTON DR STE 13, SILVER SPRING, MD 20902', '20902']\nBasecamp (Mi-Corporation)  \nAmber Smith 73129\n['SMITH, AMBER', '1407006638', 'Counselor', '105 SE 45TH ST, OKLAHOMA CITY, OK 73129', '73129']\nPragmatic Works  \n"
    }
   ],
   "source": [
    "for fn,zipval in zip(data['fullname'],data['p360_primaryzip']):\n",
    "    if(zipval!=' '):\n",
    "        zipval=int(zipval)\n",
    "    name=fn+' '+str(zipval)\n",
    "    print(name)\n",
    "    load={'terms':name}\n",
    "    response = requests.get(\"https://clinicaltables.nlm.nih.gov/api/npi_idv/v3/search?maxList=500&df=name.full,NPI,provider_type,addr_practice.full,addr_practice.zip\", params=load)\n",
    "    dfjson = json.loads(response.text)\n",
    "    for hcp in dfjson[3]:\n",
    "        print(hcp)\n",
    "        df = df.append(pd.DataFrame(np.array(hcp).reshape(-1,len(hcp)),columns=['Full Name','NPI','Provider Type','Address','zip']),ignore_index=True)"
   ]
  },
  {
   "cell_type": "code",
   "execution_count": 8,
   "metadata": {},
   "outputs": [],
   "source": [
    "df.to_csv(r'missing_2'+str(date.today())+'.csv',index=False,header=True)"
   ]
  },
  {
   "cell_type": "code",
   "execution_count": null,
   "metadata": {},
   "outputs": [],
   "source": []
  }
 ],
 "metadata": {
  "kernelspec": {
   "display_name": "Test",
   "language": "python",
   "name": "test"
  },
  "language_info": {
   "codemirror_mode": {
    "name": "ipython",
    "version": 3
   },
   "file_extension": ".py",
   "mimetype": "text/x-python",
   "name": "python",
   "nbconvert_exporter": "python",
   "pygments_lexer": "ipython3",
   "version": "3.8.5-final"
  }
 },
 "nbformat": 4,
 "nbformat_minor": 4
}